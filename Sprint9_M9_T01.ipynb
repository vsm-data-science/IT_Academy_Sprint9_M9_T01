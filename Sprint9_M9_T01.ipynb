{
 "cells": [
  {
   "cell_type": "markdown",
   "id": "fb766743",
   "metadata": {},
   "source": [
    "Exercicis d'anàlisi de sentiment i textos."
   ]
  },
  {
   "cell_type": "code",
   "execution_count": 13,
   "id": "ebd196d4",
   "metadata": {},
   "outputs": [
    {
     "name": "stderr",
     "output_type": "stream",
     "text": [
      "[nltk_data] Downloading package stopwords to\n",
      "[nltk_data]     C:\\Users\\vsanc\\AppData\\Roaming\\nltk_data...\n",
      "[nltk_data]   Package stopwords is already up-to-date!\n",
      "[nltk_data] Downloading package punkt to\n",
      "[nltk_data]     C:\\Users\\vsanc\\AppData\\Roaming\\nltk_data...\n",
      "[nltk_data]   Package punkt is already up-to-date!\n",
      "[nltk_data] Downloading package vader_lexicon to\n",
      "[nltk_data]     C:\\Users\\vsanc\\AppData\\Roaming\\nltk_data...\n"
     ]
    }
   ],
   "source": [
    "# Tratamiento de datos\n",
    "# ==============================================================================\n",
    "import numpy as np\n",
    "import pandas as pd\n",
    "\n",
    "# Gráficos\n",
    "# ==============================================================================\n",
    "import matplotlib.pyplot as plt\n",
    "import seaborn as sns\n",
    "\n",
    "# Preprocesado y modelado\n",
    "# ==============================================================================\n",
    "import nltk\n",
    "from nltk.tokenize import word_tokenize\n",
    "from nltk.tokenize import sent_tokenize\n",
    "from nltk.probability import FreqDist\n",
    "\n",
    "# Descargar el recurso de stopwords\n",
    "nltk.download('stopwords')\n",
    "\n",
    "# Descargar el recurso necesario para la tokenización de palabras\n",
    "nltk.download('punkt')\n",
    "nltk.download('vader_lexicon')\n",
    "\n",
    "from nltk.corpus import stopwords\n",
    "from nltk.stem import PorterStemmer\n",
    "\n",
    "from nltk.sentiment import SentimentIntensityAnalyzer\n",
    "\n",
    "\n",
    "# Configuración warnings\n",
    "# ==============================================================================\n",
    "import warnings\n",
    "warnings.filterwarnings('ignore')"
   ]
  },
  {
   "cell_type": "markdown",
   "id": "05eaf0b3",
   "metadata": {},
   "source": [
    "## Excercici 1"
   ]
  },
  {
   "cell_type": "markdown",
   "id": "7e5c8b51",
   "metadata": {},
   "source": [
    "Agafa un text en anglès que vulguis, i calcula'n la freqüència de les paraules."
   ]
  },
  {
   "cell_type": "markdown",
   "id": "7a6078b9",
   "metadata": {},
   "source": [
    "El texto es sobre una chica que ha visto la nueva película de neflix Lift."
   ]
  },
  {
   "cell_type": "markdown",
   "id": "8892665b",
   "metadata": {},
   "source": [
    "Los procesos que vamos a realizar son:  \n",
    "    **· Tokenización**  \n",
    "    **· Frecuencia**"
   ]
  },
  {
   "cell_type": "markdown",
   "id": "1b7bf4db",
   "metadata": {},
   "source": [
    "### Lift (2024 film)"
   ]
  },
  {
   "cell_type": "markdown",
   "id": "8f7e0155",
   "metadata": {},
   "source": [
    "Walking into the cinema, my excitement bubbled as I settled into my seat, ready to be swept away by the much-anticipated \"Lift,\" a 2024 film directed by Julia Harper. The dimming lights signaled the beginning of a cinematic journey that promised to be nothing short of extraordinary.\n",
    "\n",
    "From the film's mysterious prologue, I found myself captivated by the storytelling prowess and visual artistry on display. Julia Harper's direction, coupled with breathtaking cinematography, immediately immersed me in a world of emotions and picturesque landscapes that set the stage for the characters' unfolding journey.\n",
    "\n",
    "Emily Thompson's portrayal of the protagonist struck a chord within me, as her character navigated the complexities of life with authenticity and grace. The highs and lows of her journey resonated deeply, and I couldn't help but feel a personal connection to the raw and genuine performance.\n",
    "\n",
    "\"Lift\" unfolded with themes of self-discovery, resilience, and the indomitable spirit of the human soul. The narrative touched on aspects of my own life, prompting reflection on my journey and the challenges that have shaped me into who I am today.\n",
    "\n",
    "The supporting cast added layers of richness to the storytelling, with each character contributing a unique flavor to the narrative. The ensemble of actors, both seasoned and fresh talents, brought the story to life in a way that kept me engaged from the opening scenes to the final credits.\n",
    "\n",
    "What stood out most to me was the film's masterful use of symbolism and metaphor. The title, \"Lift,\" took on profound meanings throughout the story, symbolizing personal growth, the elevating power of love, and the triumph over obstacles that weigh us down.\n",
    "\n",
    "As the credits rolled and the lights brightened the theater, I felt a sense of fulfillment. \"Lift\" had exceeded my expectations, leaving an indelible mark on my cinematic experience. Eager to share my thoughts, I left the theater inspired to discuss the layers of meaning and the emotional journey I had just witnessed.\n",
    "\n",
    "\"Lift\" wasn't just a movie; it was a deeply personal exploration that resonated with me on multiple levels. Stepping out into the world, I carried with me the echoes of its messages, inspired to embark on my own uplifting journey of self-discovery."
   ]
  },
  {
   "cell_type": "markdown",
   "id": "6d5e81f0",
   "metadata": {},
   "source": [
    "Vamos a realizar un análisis de sentimiento en el texto utilizando la biblioteca NLTK de Python, específicamente el módulo VADER (Valence Aware Dictionary and sEntiment Reasoner)."
   ]
  },
  {
   "cell_type": "markdown",
   "id": "0db15a55",
   "metadata": {},
   "source": [
    "### Texto a Analizar"
   ]
  },
  {
   "cell_type": "code",
   "execution_count": 2,
   "id": "3fb96a67",
   "metadata": {},
   "outputs": [],
   "source": [
    "texto = \"\"\"\n",
    "Walking into the cinema, my excitement bubbled as I settled into my seat, ready to be swept away by the much-anticipated \"Lift,\" a 2024 film directed by Julia Harper. The dimming lights signaled the beginning of a cinematic journey that promised to be nothing short of extraordinary.\n",
    "\n",
    "From the film's mysterious prologue, I found myself captivated by the storytelling prowess and visual artistry on display. Julia Harper's direction, coupled with breathtaking cinematography, immediately immersed me in a world of emotions and picturesque landscapes that set the stage for the characters' unfolding journey.\n",
    "\n",
    "Emily Thompson's portrayal of the protagonist struck a chord within me, as her character navigated the complexities of life with authenticity and grace. The highs and lows of her journey resonated deeply, and I couldn't help but feel a personal connection to the raw and genuine performance.\n",
    "\n",
    "\"Lift\" unfolded with themes of self-discovery, resilience, and the indomitable spirit of the human soul. The narrative touched on aspects of my own life, prompting reflection on my journey and the challenges that have shaped me into who I am today.\n",
    "\n",
    "The supporting cast added layers of richness to the storytelling, with each character contributing a unique flavor to the narrative. The ensemble of actors, both seasoned and fresh talents, brought the story to life in a way that kept me engaged from the opening scenes to the final credits.\n",
    "\n",
    "What stood out most to me was the film's masterful use of symbolism and metaphor. The title, \"Lift,\" took on profound meanings throughout the story, symbolizing personal growth, the elevating power of love, and the triumph over obstacles that weigh us down.\n",
    "\n",
    "As the credits rolled and the lights brightened the theater, I felt a sense of fulfillment. \"Lift\" had exceeded my expectations, leaving an indelible mark on my cinematic experience. Eager to share my thoughts, I left the theater inspired to discuss the layers of meaning and the emotional journey I had just witnessed.\n",
    "\n",
    "\"Lift\" wasn't just a movie; it was a deeply personal exploration that resonated with me on multiple levels. Stepping out into the world, I carried with me the echoes of its messages, inspired to embark on my own uplifting journey of self-discovery.\n",
    "\"\"\"\n"
   ]
  },
  {
   "cell_type": "markdown",
   "id": "70d88571",
   "metadata": {},
   "source": [
    "### Tokenización de Oraciones"
   ]
  },
  {
   "cell_type": "code",
   "execution_count": 3,
   "id": "9cc650c3",
   "metadata": {},
   "outputs": [
    {
     "name": "stdout",
     "output_type": "stream",
     "text": [
      "['\\nWalking into the cinema, my excitement bubbled as I settled into my seat, ready to be swept away by the much-anticipated \"Lift,\" a 2024 film directed by Julia Harper.', 'The dimming lights signaled the beginning of a cinematic journey that promised to be nothing short of extraordinary.', \"From the film's mysterious prologue, I found myself captivated by the storytelling prowess and visual artistry on display.\", \"Julia Harper's direction, coupled with breathtaking cinematography, immediately immersed me in a world of emotions and picturesque landscapes that set the stage for the characters' unfolding journey.\", \"Emily Thompson's portrayal of the protagonist struck a chord within me, as her character navigated the complexities of life with authenticity and grace.\", \"The highs and lows of her journey resonated deeply, and I couldn't help but feel a personal connection to the raw and genuine performance.\", '\"Lift\" unfolded with themes of self-discovery, resilience, and the indomitable spirit of the human soul.', 'The narrative touched on aspects of my own life, prompting reflection on my journey and the challenges that have shaped me into who I am today.', 'The supporting cast added layers of richness to the storytelling, with each character contributing a unique flavor to the narrative.', 'The ensemble of actors, both seasoned and fresh talents, brought the story to life in a way that kept me engaged from the opening scenes to the final credits.', \"What stood out most to me was the film's masterful use of symbolism and metaphor.\", 'The title, \"Lift,\" took on profound meanings throughout the story, symbolizing personal growth, the elevating power of love, and the triumph over obstacles that weigh us down.', 'As the credits rolled and the lights brightened the theater, I felt a sense of fulfillment.', '\"Lift\" had exceeded my expectations, leaving an indelible mark on my cinematic experience.', 'Eager to share my thoughts, I left the theater inspired to discuss the layers of meaning and the emotional journey I had just witnessed.', '\"Lift\" wasn\\'t just a movie; it was a deeply personal exploration that resonated with me on multiple levels.', 'Stepping out into the world, I carried with me the echoes of its messages, inspired to embark on my own uplifting journey of self-discovery.']\n"
     ]
    }
   ],
   "source": [
    "tokenized_texto = sent_tokenize(texto)\n",
    "print(tokenized_texto)"
   ]
  },
  {
   "cell_type": "markdown",
   "id": "2a339472",
   "metadata": {},
   "source": [
    "### Tokenización de Palabras"
   ]
  },
  {
   "cell_type": "code",
   "execution_count": 4,
   "id": "766084e6",
   "metadata": {},
   "outputs": [
    {
     "name": "stdout",
     "output_type": "stream",
     "text": [
      "['Walking', 'into', 'the', 'cinema', ',', 'my', 'excitement', 'bubbled', 'as', 'I', 'settled', 'into', 'my', 'seat', ',', 'ready', 'to', 'be', 'swept', 'away', 'by', 'the', 'much-anticipated', '``', 'Lift', ',', \"''\", 'a', '2024', 'film', 'directed', 'by', 'Julia', 'Harper', '.', 'The', 'dimming', 'lights', 'signaled', 'the', 'beginning', 'of', 'a', 'cinematic', 'journey', 'that', 'promised', 'to', 'be', 'nothing', 'short', 'of', 'extraordinary', '.', 'From', 'the', 'film', \"'s\", 'mysterious', 'prologue', ',', 'I', 'found', 'myself', 'captivated', 'by', 'the', 'storytelling', 'prowess', 'and', 'visual', 'artistry', 'on', 'display', '.', 'Julia', 'Harper', \"'s\", 'direction', ',', 'coupled', 'with', 'breathtaking', 'cinematography', ',', 'immediately', 'immersed', 'me', 'in', 'a', 'world', 'of', 'emotions', 'and', 'picturesque', 'landscapes', 'that', 'set', 'the', 'stage', 'for', 'the', 'characters', \"'\", 'unfolding', 'journey', '.', 'Emily', 'Thompson', \"'s\", 'portrayal', 'of', 'the', 'protagonist', 'struck', 'a', 'chord', 'within', 'me', ',', 'as', 'her', 'character', 'navigated', 'the', 'complexities', 'of', 'life', 'with', 'authenticity', 'and', 'grace', '.', 'The', 'highs', 'and', 'lows', 'of', 'her', 'journey', 'resonated', 'deeply', ',', 'and', 'I', 'could', \"n't\", 'help', 'but', 'feel', 'a', 'personal', 'connection', 'to', 'the', 'raw', 'and', 'genuine', 'performance', '.', '``', 'Lift', \"''\", 'unfolded', 'with', 'themes', 'of', 'self-discovery', ',', 'resilience', ',', 'and', 'the', 'indomitable', 'spirit', 'of', 'the', 'human', 'soul', '.', 'The', 'narrative', 'touched', 'on', 'aspects', 'of', 'my', 'own', 'life', ',', 'prompting', 'reflection', 'on', 'my', 'journey', 'and', 'the', 'challenges', 'that', 'have', 'shaped', 'me', 'into', 'who', 'I', 'am', 'today', '.', 'The', 'supporting', 'cast', 'added', 'layers', 'of', 'richness', 'to', 'the', 'storytelling', ',', 'with', 'each', 'character', 'contributing', 'a', 'unique', 'flavor', 'to', 'the', 'narrative', '.', 'The', 'ensemble', 'of', 'actors', ',', 'both', 'seasoned', 'and', 'fresh', 'talents', ',', 'brought', 'the', 'story', 'to', 'life', 'in', 'a', 'way', 'that', 'kept', 'me', 'engaged', 'from', 'the', 'opening', 'scenes', 'to', 'the', 'final', 'credits', '.', 'What', 'stood', 'out', 'most', 'to', 'me', 'was', 'the', 'film', \"'s\", 'masterful', 'use', 'of', 'symbolism', 'and', 'metaphor', '.', 'The', 'title', ',', '``', 'Lift', ',', \"''\", 'took', 'on', 'profound', 'meanings', 'throughout', 'the', 'story', ',', 'symbolizing', 'personal', 'growth', ',', 'the', 'elevating', 'power', 'of', 'love', ',', 'and', 'the', 'triumph', 'over', 'obstacles', 'that', 'weigh', 'us', 'down', '.', 'As', 'the', 'credits', 'rolled', 'and', 'the', 'lights', 'brightened', 'the', 'theater', ',', 'I', 'felt', 'a', 'sense', 'of', 'fulfillment', '.', '``', 'Lift', \"''\", 'had', 'exceeded', 'my', 'expectations', ',', 'leaving', 'an', 'indelible', 'mark', 'on', 'my', 'cinematic', 'experience', '.', 'Eager', 'to', 'share', 'my', 'thoughts', ',', 'I', 'left', 'the', 'theater', 'inspired', 'to', 'discuss', 'the', 'layers', 'of', 'meaning', 'and', 'the', 'emotional', 'journey', 'I', 'had', 'just', 'witnessed', '.', '``', 'Lift', \"''\", 'was', \"n't\", 'just', 'a', 'movie', ';', 'it', 'was', 'a', 'deeply', 'personal', 'exploration', 'that', 'resonated', 'with', 'me', 'on', 'multiple', 'levels', '.', 'Stepping', 'out', 'into', 'the', 'world', ',', 'I', 'carried', 'with', 'me', 'the', 'echoes', 'of', 'its', 'messages', ',', 'inspired', 'to', 'embark', 'on', 'my', 'own', 'uplifting', 'journey', 'of', 'self-discovery', '.']\n"
     ]
    }
   ],
   "source": [
    "tokenized_word = word_tokenize(texto)\n",
    "print(tokenized_word)"
   ]
  },
  {
   "cell_type": "markdown",
   "id": "689263df",
   "metadata": {},
   "source": [
    "### Análisis de Frecuencia de Palabras"
   ]
  },
  {
   "cell_type": "code",
   "execution_count": 5,
   "id": "5a5e6296",
   "metadata": {},
   "outputs": [
    {
     "name": "stdout",
     "output_type": "stream",
     "text": [
      "<FreqDist with 211 samples and 425 outcomes>\n"
     ]
    }
   ],
   "source": [
    "freqdist = FreqDist(tokenized_word)\n",
    "print(freqdist)"
   ]
  },
  {
   "cell_type": "markdown",
   "id": "998bf70d",
   "metadata": {},
   "source": [
    "### Palabras más Comunes (Top 15)"
   ]
  },
  {
   "cell_type": "code",
   "execution_count": 6,
   "id": "fe2f1707",
   "metadata": {},
   "outputs": [
    {
     "data": {
      "text/plain": [
       "[('the', 30),\n",
       " (',', 24),\n",
       " ('.', 17),\n",
       " ('of', 17),\n",
       " ('and', 13),\n",
       " ('to', 11),\n",
       " ('a', 10),\n",
       " ('my', 8),\n",
       " ('I', 8),\n",
       " ('on', 7),\n",
       " ('me', 7),\n",
       " ('The', 6),\n",
       " ('journey', 6),\n",
       " ('that', 6),\n",
       " ('with', 6)]"
      ]
     },
     "execution_count": 6,
     "metadata": {},
     "output_type": "execute_result"
    }
   ],
   "source": [
    "freqdist.most_common(15)"
   ]
  },
  {
   "cell_type": "markdown",
   "id": "97b8a031",
   "metadata": {},
   "source": [
    "Las palabras \"was\", \"a\", \"with\", \"me\", \"on\", \".\", y \"the\" son las más frecuentes en el texto. "
   ]
  },
  {
   "cell_type": "markdown",
   "id": "5c33de74",
   "metadata": {},
   "source": [
    "### Visualizamos las palabras más Comunes (Top 15)\n"
   ]
  },
  {
   "cell_type": "code",
   "execution_count": 7,
   "id": "a9d38321",
   "metadata": {},
   "outputs": [
    {
     "data": {
      "image/png": "[encoded data removed]",
      "text/plain": [
       "<Figure size 640x480 with 1 Axes>"
      ]
     },
     "metadata": {},
     "output_type": "display_data"
    }
   ],
   "source": [
    "freqdist.plot(15, cumulative=False)\n",
    "plt.show()"
   ]
  },
  {
   "cell_type": "markdown",
   "id": "09bbbb3e",
   "metadata": {},
   "source": [
    "**Conclusiones:** El gráfico muestra la distribución de frecuencia de las palabras más comunes. La altura de cada barra representa la frecuencia de la palabra correspondiente.\n",
    "Observamos que las palabras comunes, como \"was\" y \"a\", son más frecuentes, mientras que las palabras menos comunes, como \"Lift\" y \"just\", tienen frecuencias más bajas."
   ]
  },
  {
   "cell_type": "markdown",
   "id": "945d304d",
   "metadata": {},
   "source": [
    "## Exercici 2"
   ]
  },
  {
   "cell_type": "markdown",
   "id": "cf42e0f3",
   "metadata": {},
   "source": [
    "Treu les stopwords i realitza stemming al teu conjunt de dades."
   ]
  },
  {
   "cell_type": "markdown",
   "id": "6c1fec2c",
   "metadata": {},
   "source": [
    "**· Stopwords**: Palabras que no aportan información relevante sobre el texto.  \n",
    "**· Stemming**: Proceso mediante el cual vamos llevar a las palabras a su raiz."
   ]
  },
  {
   "cell_type": "markdown",
   "id": "b515a95a",
   "metadata": {},
   "source": [
    "### Stopwords"
   ]
  },
  {
   "cell_type": "code",
   "execution_count": 8,
   "id": "3a09adaf",
   "metadata": {},
   "outputs": [
    {
     "name": "stdout",
     "output_type": "stream",
     "text": [
      "Stopwords de la librería:  {'wouldn', 'that', 'theirs', 'you', 'or', \"you've\", 'should', 'a', 'aren', 'yourselves', \"couldn't\", \"aren't\", 'than', \"shan't\", 'nor', 'not', 'has', 'there', 'did', 'so', \"didn't\", 'which', 'couldn', 'each', 'being', 'below', 'now', \"doesn't\", 'the', 'needn', \"needn't\", 'few', 'these', 'have', \"wouldn't\", 'her', \"hasn't\", \"hadn't\", 'won', 'between', 'further', 'was', 'with', 'mightn', 'for', 'it', 'haven', 'can', 'before', \"you're\", 'who', 'd', 'mustn', 'most', 'hasn', 'once', 'shouldn', 'both', 'hers', 'an', 'against', 'this', 'yourself', 'then', 'he', 'some', 'll', 'and', 'but', 'only', \"should've\", 'over', 'his', 'above', 'too', 'o', \"she's\", 'ourselves', 'herself', 'during', 'through', 'don', \"don't\", 'am', 'just', 'when', 'on', 's', 'himself', \"wasn't\", 'whom', \"mightn't\", 'all', \"won't\", 'having', 'our', 'does', 'of', 'y', 'is', 'after', 'such', 'until', 're', 'ain', 'your', 'yours', \"that'll\", 'will', 'under', 'into', 'were', 'isn', 'again', 'why', \"you'll\", \"you'd\", 'because', 'him', 've', 'itself', 'here', 'had', 'out', 'more', 'if', 'be', 'very', 'up', 'how', \"mustn't\", 'doesn', 'myself', 'i', 'while', 'as', 'wasn', \"isn't\", 'its', 'm', 'we', 'what', 'my', 'their', 'off', 'own', 'ours', 'she', 'been', 'no', 'hadn', 'same', 'ma', 'they', 't', 'didn', 'do', 'any', \"shouldn't\", 'are', 'doing', 'from', 'in', 'shan', 'those', 'at', 'to', \"haven't\", \"it's\", 'weren', \"weren't\", 'me', 'them', 'other', 'themselves', 'where', 'down', 'by', 'about'}\n"
     ]
    }
   ],
   "source": [
    "sw = set(stopwords.words(\"english\"))\n",
    "print(\"Stopwords de la librería: \" ,sw)"
   ]
  },
  {
   "cell_type": "markdown",
   "id": "7a0e3181",
   "metadata": {},
   "source": [
    "### Sin Stopwords"
   ]
  },
  {
   "cell_type": "code",
   "execution_count": 9,
   "id": "37194181",
   "metadata": {},
   "outputs": [
    {
     "name": "stdout",
     "output_type": "stream",
     "text": [
      "Texto sin stopwords ['Walking', 'cinema', ',', 'excitement', 'bubbled', 'I', 'settled', 'seat', ',', 'ready', 'swept', 'away', 'much-anticipated', '``', 'Lift', ',', \"''\", '2024', 'film', 'directed', 'Julia', 'Harper', '.', 'The', 'dimming', 'lights', 'signaled', 'beginning', 'cinematic', 'journey', 'promised', 'nothing', 'short', 'extraordinary', '.', 'From', 'film', \"'s\", 'mysterious', 'prologue', ',', 'I', 'found', 'captivated', 'storytelling', 'prowess', 'visual', 'artistry', 'display', '.', 'Julia', 'Harper', \"'s\", 'direction', ',', 'coupled', 'breathtaking', 'cinematography', ',', 'immediately', 'immersed', 'world', 'emotions', 'picturesque', 'landscapes', 'set', 'stage', 'characters', \"'\", 'unfolding', 'journey', '.', 'Emily', 'Thompson', \"'s\", 'portrayal', 'protagonist', 'struck', 'chord', 'within', ',', 'character', 'navigated', 'complexities', 'life', 'authenticity', 'grace', '.', 'The', 'highs', 'lows', 'journey', 'resonated', 'deeply', ',', 'I', 'could', \"n't\", 'help', 'feel', 'personal', 'connection', 'raw', 'genuine', 'performance', '.', '``', 'Lift', \"''\", 'unfolded', 'themes', 'self-discovery', ',', 'resilience', ',', 'indomitable', 'spirit', 'human', 'soul', '.', 'The', 'narrative', 'touched', 'aspects', 'life', ',', 'prompting', 'reflection', 'journey', 'challenges', 'shaped', 'I', 'today', '.', 'The', 'supporting', 'cast', 'added', 'layers', 'richness', 'storytelling', ',', 'character', 'contributing', 'unique', 'flavor', 'narrative', '.', 'The', 'ensemble', 'actors', ',', 'seasoned', 'fresh', 'talents', ',', 'brought', 'story', 'life', 'way', 'kept', 'engaged', 'opening', 'scenes', 'final', 'credits', '.', 'What', 'stood', 'film', \"'s\", 'masterful', 'use', 'symbolism', 'metaphor', '.', 'The', 'title', ',', '``', 'Lift', ',', \"''\", 'took', 'profound', 'meanings', 'throughout', 'story', ',', 'symbolizing', 'personal', 'growth', ',', 'elevating', 'power', 'love', ',', 'triumph', 'obstacles', 'weigh', 'us', '.', 'As', 'credits', 'rolled', 'lights', 'brightened', 'theater', ',', 'I', 'felt', 'sense', 'fulfillment', '.', '``', 'Lift', \"''\", 'exceeded', 'expectations', ',', 'leaving', 'indelible', 'mark', 'cinematic', 'experience', '.', 'Eager', 'share', 'thoughts', ',', 'I', 'left', 'theater', 'inspired', 'discuss', 'layers', 'meaning', 'emotional', 'journey', 'I', 'witnessed', '.', '``', 'Lift', \"''\", \"n't\", 'movie', ';', 'deeply', 'personal', 'exploration', 'resonated', 'multiple', 'levels', '.', 'Stepping', 'world', ',', 'I', 'carried', 'echoes', 'messages', ',', 'inspired', 'embark', 'uplifting', 'journey', 'self-discovery', '.']\n"
     ]
    }
   ],
   "source": [
    "sw_texto=[]\n",
    "for i in tokenized_word:\n",
    "    if i not in sw:\n",
    "        sw_texto.append(i)\n",
    "print(\"Texto sin stopwords\" ,sw_texto)"
   ]
  },
  {
   "cell_type": "markdown",
   "id": "aa9b66f9",
   "metadata": {},
   "source": [
    "### Texto Lematizado"
   ]
  },
  {
   "cell_type": "code",
   "execution_count": 10,
   "id": "3a3c335d",
   "metadata": {},
   "outputs": [
    {
     "name": "stdout",
     "output_type": "stream",
     "text": [
      "Texto lematizado:  ['walk', 'cinema', ',', 'excit', 'bubbl', 'i', 'settl', 'seat', ',', 'readi', 'swept', 'away', 'much-anticip', '``', 'lift', ',', \"''\", '2024', 'film', 'direct', 'julia', 'harper', '.', 'the', 'dim', 'light', 'signal', 'begin', 'cinemat', 'journey', 'promis', 'noth', 'short', 'extraordinari', '.', 'from', 'film', \"'s\", 'mysteri', 'prologu', ',', 'i', 'found', 'captiv', 'storytel', 'prowess', 'visual', 'artistri', 'display', '.', 'julia', 'harper', \"'s\", 'direct', ',', 'coupl', 'breathtak', 'cinematographi', ',', 'immedi', 'immers', 'world', 'emot', 'picturesqu', 'landscap', 'set', 'stage', 'charact', \"'\", 'unfold', 'journey', '.', 'emili', 'thompson', \"'s\", 'portray', 'protagonist', 'struck', 'chord', 'within', ',', 'charact', 'navig', 'complex', 'life', 'authent', 'grace', '.', 'the', 'high', 'low', 'journey', 'reson', 'deepli', ',', 'i', 'could', \"n't\", 'help', 'feel', 'person', 'connect', 'raw', 'genuin', 'perform', '.', '``', 'lift', \"''\", 'unfold', 'theme', 'self-discoveri', ',', 'resili', ',', 'indomit', 'spirit', 'human', 'soul', '.', 'the', 'narr', 'touch', 'aspect', 'life', ',', 'prompt', 'reflect', 'journey', 'challeng', 'shape', 'i', 'today', '.', 'the', 'support', 'cast', 'ad', 'layer', 'rich', 'storytel', ',', 'charact', 'contribut', 'uniqu', 'flavor', 'narr', '.', 'the', 'ensembl', 'actor', ',', 'season', 'fresh', 'talent', ',', 'brought', 'stori', 'life', 'way', 'kept', 'engag', 'open', 'scene', 'final', 'credit', '.', 'what', 'stood', 'film', \"'s\", 'master', 'use', 'symbol', 'metaphor', '.', 'the', 'titl', ',', '``', 'lift', ',', \"''\", 'took', 'profound', 'mean', 'throughout', 'stori', ',', 'symbol', 'person', 'growth', ',', 'elev', 'power', 'love', ',', 'triumph', 'obstacl', 'weigh', 'us', '.', 'as', 'credit', 'roll', 'light', 'brighten', 'theater', ',', 'i', 'felt', 'sens', 'fulfil', '.', '``', 'lift', \"''\", 'exceed', 'expect', ',', 'leav', 'indel', 'mark', 'cinemat', 'experi', '.', 'eager', 'share', 'thought', ',', 'i', 'left', 'theater', 'inspir', 'discuss', 'layer', 'mean', 'emot', 'journey', 'i', 'wit', '.', '``', 'lift', \"''\", \"n't\", 'movi', ';', 'deepli', 'person', 'explor', 'reson', 'multipl', 'level', '.', 'step', 'world', ',', 'i', 'carri', 'echo', 'messag', ',', 'inspir', 'embark', 'uplift', 'journey', 'self-discoveri', '.']\n"
     ]
    }
   ],
   "source": [
    "ps = PorterStemmer()\n",
    "\n",
    "stemmed_words = []\n",
    "for i in sw_texto:\n",
    "    stemmed_words.append(ps.stem(i))\n",
    "\n",
    "print(\"Texto lematizado: \" ,stemmed_words)"
   ]
  },
  {
   "cell_type": "markdown",
   "id": "02dd6751",
   "metadata": {},
   "source": [
    "Observamos que mediante el proceso de lematización, los verbos los pone en infinitivo y de otras palabras se queda sólo con la raiz."
   ]
  },
  {
   "cell_type": "markdown",
   "id": "d3b98916",
   "metadata": {},
   "source": [
    "## Exercici 3"
   ]
  },
  {
   "cell_type": "markdown",
   "id": "0d3afd17",
   "metadata": {},
   "source": [
    "Realitza sentiment analysis al teu conjunt de dades."
   ]
  },
  {
   "cell_type": "markdown",
   "id": "e34cfb36",
   "metadata": {},
   "source": [
    "Análisis de sentimientos [link documentación](https://cienciadedatos.net/documentos/py25-text-mining-python#An%C3%A1lisis-de-sentimientos)"
   ]
  },
  {
   "cell_type": "code",
   "execution_count": 14,
   "id": "9887ae05",
   "metadata": {},
   "outputs": [
    {
     "data": {
      "text/plain": [
       "{'neg': 0.02, 'neu': 0.786, 'pos': 0.194, 'compound': 0.9968}"
      ]
     },
     "execution_count": 14,
     "metadata": {},
     "output_type": "execute_result"
    }
   ],
   "source": [
    "analisis = SentimentIntensityAnalyzer()\n",
    "analisis.polarity_scores(texto)"
   ]
  },
  {
   "cell_type": "markdown",
   "id": "b3903f52",
   "metadata": {},
   "source": [
    "Observación: Lo que podemos interpretar lsobre os resutados obtenidos de este análisis es:  \n",
    "        \n",
    "        · El 2% del texto se considera negativo.  \n",
    "        · El 78.6% del texto se considera neutral.  \n",
    "        · Alrededor del 19.4% del texto se considera positivo.  \n",
    "        · 0.9968 sugiere una polaridad muy positiva en el texto.  \n",
    "        \n",
    "El análisis de sentimientos indica que el texto es mayormente neutral, pero contiene una proporción significativa de palabras positivas y muy pocas palabras negativas. La puntuación compuesta (compound) de 0.9968 confirma una tendencia extremadamente positiva en el texto."
   ]
  },
  {
   "cell_type": "code",
   "execution_count": null,
   "id": "d16bf2a8",
   "metadata": {},
   "outputs": [],
   "source": []
  }
 ],
 "metadata": {
  "kernelspec": {
   "display_name": "Python 3 (ipykernel)",
   "language": "python",
   "name": "python3"
  },
  "language_info": {
   "codemirror_mode": {
    "name": "ipython",
    "version": 3
   },
   "file_extension": ".py",
   "mimetype": "text/x-python",
   "name": "python",
   "nbconvert_exporter": "python",
   "pygments_lexer": "ipython3",
   "version": "3.11.5"
  }
 },
 "nbformat": 4,
 "nbformat_minor": 5
}
